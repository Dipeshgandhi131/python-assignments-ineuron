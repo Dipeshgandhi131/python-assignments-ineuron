{
 "cells": [
  {
   "cell_type": "markdown",
   "id": "fa36f496",
   "metadata": {},
   "source": [
    "1. Write a Python program to check if the given number is a Disarium Number?"
   ]
  },
  {
   "cell_type": "code",
   "execution_count": 2,
   "id": "7460a7df",
   "metadata": {},
   "outputs": [
    {
     "name": "stdout",
     "output_type": "stream",
     "text": [
      "Enter the number :135\n",
      "Is the Number Disarium ? : True\n"
     ]
    }
   ],
   "source": [
    "def is_disarium(num):\n",
    "    \n",
    "    num_str = str(num)\n",
    "    num_len = len(num_str)\n",
    "    \n",
    "\n",
    "    disarium_sum = 0\n",
    "    for i in range(num_len):\n",
    "        disarium_sum += int(num_str[i])**(i+1)\n",
    "    \n",
    "    # Check if the sum equals the original number\n",
    "    if disarium_sum == num:\n",
    "        return True\n",
    "    else:\n",
    "        return False\n",
    "\n",
    "num = int(input('Enter the number :'))\n",
    "print(f'Is the Number Disarium ? : {is_disarium(num)}')"
   ]
  },
  {
   "cell_type": "markdown",
   "id": "c1ade6e1",
   "metadata": {},
   "source": [
    "2. Write a Python program to print all disarium numbers between 1 to 100?"
   ]
  },
  {
   "cell_type": "code",
   "execution_count": 3,
   "id": "b6ed08c3",
   "metadata": {},
   "outputs": [
    {
     "name": "stdout",
     "output_type": "stream",
     "text": [
      "[1, 2, 3, 4, 5, 6, 7, 8, 9, 89]\n"
     ]
    }
   ],
   "source": [
    "disarium_num = []\n",
    "for i in range(1,100+1):\n",
    "    check = is_disarium(i)\n",
    "    if check:\n",
    "        disarium_num.append(i)\n",
    "    else:\n",
    "        pass\n",
    "print(disarium_num)"
   ]
  },
  {
   "cell_type": "markdown",
   "id": "c1b62ee4",
   "metadata": {},
   "source": [
    "3. Write a Python program to check if the given number is Happy Number?"
   ]
  },
  {
   "cell_type": "code",
   "execution_count": 22,
   "id": "ffa60816",
   "metadata": {},
   "outputs": [
    {
     "name": "stdout",
     "output_type": "stream",
     "text": [
      "Enter the num : 6\n",
      "Is Happy? : False\n"
     ]
    }
   ],
   "source": [
    "def is_happy(num):\n",
    "    visited = set()\n",
    "    while num != 1 and  num not in visited :\n",
    "        visited.add(num)\n",
    "        num = sum(int(i)**2 for i in str(num))\n",
    "    \n",
    "    # If the loop exited because the number is Happy, return True, otherwise False\n",
    "    return num == 1\n",
    "\n",
    "num = int(input('Enter the num : '))\n",
    "print(f'Is Happy? : {is_happy(num)}')\n"
   ]
  },
  {
   "cell_type": "markdown",
   "id": "c8622919",
   "metadata": {},
   "source": [
    "4. Write a Python program to print all happy numbers between 1 and 100?"
   ]
  },
  {
   "cell_type": "code",
   "execution_count": 23,
   "id": "ee0312f8",
   "metadata": {},
   "outputs": [
    {
     "name": "stdout",
     "output_type": "stream",
     "text": [
      "[1, 7, 10, 13, 19, 23, 28, 31, 32, 44, 49, 68, 70, 79, 82, 86, 91, 94, 97, 100]\n"
     ]
    }
   ],
   "source": [
    "num_list = []\n",
    "for i in range(1,100+1):\n",
    "    check = is_happy(i)\n",
    "    if check:\n",
    "        num_list.append(i)\n",
    "\n",
    "print(num_list)"
   ]
  },
  {
   "cell_type": "markdown",
   "id": "3a064b8b",
   "metadata": {},
   "source": [
    "5. Write a Python program to determine whether the given number is a Harshad Number?"
   ]
  },
  {
   "cell_type": "code",
   "execution_count": 26,
   "id": "fdb05631",
   "metadata": {},
   "outputs": [
    {
     "name": "stdout",
     "output_type": "stream",
     "text": [
      "Enter the num: 353\n",
      "is it harshad number? : False\n"
     ]
    }
   ],
   "source": [
    "def is_harshad(num):\n",
    "    # Calculate the sum of the digits of the number\n",
    "    digit_sum = sum(int(digit) for digit in str(num))\n",
    "    \n",
    "    # Check if the number is divisible by the sum of its digits\n",
    "    if num % digit_sum == 0:\n",
    "        return True\n",
    "    else:\n",
    "        return False\n",
    "\n",
    "num = int(input('Enter the num: '))\n",
    "print(f\"is it harshad number? : {is_harshad(num)}\")"
   ]
  },
  {
   "cell_type": "markdown",
   "id": "330664f5",
   "metadata": {},
   "source": [
    "6. Write a Python program to print all pronic numbers between 1 and 100?"
   ]
  },
  {
   "cell_type": "code",
   "execution_count": 27,
   "id": "2dd661c2",
   "metadata": {},
   "outputs": [
    {
     "name": "stdout",
     "output_type": "stream",
     "text": [
      "0 2 6 12 20 30 42 56 72 90 "
     ]
    }
   ],
   "source": [
    "i = 0\n",
    "while True:\n",
    "    pronicNum = i*(i+1)\n",
    "    i = i + 1\n",
    "    if pronicNum > 100:\n",
    "        break\n",
    "    print(pronicNum, end = ' ')\n",
    "    "
   ]
  },
  {
   "cell_type": "code",
   "execution_count": null,
   "id": "b750aca3",
   "metadata": {},
   "outputs": [],
   "source": []
  }
 ],
 "metadata": {
  "kernelspec": {
   "display_name": "Python 3",
   "language": "python",
   "name": "python3"
  },
  "language_info": {
   "codemirror_mode": {
    "name": "ipython",
    "version": 3
   },
   "file_extension": ".py",
   "mimetype": "text/x-python",
   "name": "python",
   "nbconvert_exporter": "python",
   "pygments_lexer": "ipython3",
   "version": "3.8.8"
  }
 },
 "nbformat": 4,
 "nbformat_minor": 5
}
