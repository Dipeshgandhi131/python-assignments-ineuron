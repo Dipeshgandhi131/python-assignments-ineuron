{
 "cells": [
  {
   "cell_type": "markdown",
   "id": "b00f9f10",
   "metadata": {},
   "source": [
    "1. Write a Python program to print \"Hello Python\"? \n",
    "\n",
    "   Sol:"
   ]
  },
  {
   "cell_type": "code",
   "execution_count": 1,
   "id": "dbf1a240",
   "metadata": {},
   "outputs": [
    {
     "name": "stdout",
     "output_type": "stream",
     "text": [
      "Hello Python\n"
     ]
    }
   ],
   "source": [
    "print(\"Hello Python\") "
   ]
  },
  {
   "cell_type": "markdown",
   "id": "8a8e7ba7",
   "metadata": {},
   "source": [
    "2. Write a Python program to do arithmetical operations addition and division.?\n",
    "\n",
    "   Sol:"
   ]
  },
  {
   "cell_type": "code",
   "execution_count": 4,
   "id": "b54a4d2e",
   "metadata": {},
   "outputs": [
    {
     "name": "stdout",
     "output_type": "stream",
     "text": [
      "Enter no: 5\n",
      "Enter no: 10\n",
      "15\n",
      "0.5\n"
     ]
    }
   ],
   "source": [
    "add = lambda x,y : x+y \n",
    "division = lambda x,y : x/y\n",
    "num_1 = int(input('Enter no: '))\n",
    "num_2 = int(input('Enter no: '))\n",
    "\n",
    "print(add(num_1,num_2))\n",
    "print(division(num_1,num_2))\n"
   ]
  },
  {
   "cell_type": "markdown",
   "id": "4920fb49",
   "metadata": {},
   "source": [
    "3. Write a Python program to find the area of a triangle?\n",
    "\n",
    "   Sol:"
   ]
  },
  {
   "cell_type": "code",
   "execution_count": 6,
   "id": "dad9589e",
   "metadata": {},
   "outputs": [
    {
     "name": "stdout",
     "output_type": "stream",
     "text": [
      "Area of triangle: 1250.0\n"
     ]
    }
   ],
   "source": [
    "height = 100\n",
    "base = 25\n",
    "\n",
    "area = height*base/2\n",
    "\n",
    "print(\"Area of triangle:\", area)"
   ]
  },
  {
   "cell_type": "markdown",
   "id": "3377bfd9",
   "metadata": {},
   "source": [
    "4. Write a Python program to swap two variables?\n",
    "\n",
    "   Sol:"
   ]
  },
  {
   "cell_type": "code",
   "execution_count": 7,
   "id": "b130dde3",
   "metadata": {},
   "outputs": [
    {
     "name": "stdout",
     "output_type": "stream",
     "text": [
      "\n",
      "After swap:\n",
      "var1 = 111 and var2 = 123\n"
     ]
    }
   ],
   "source": [
    "var1 = 123\n",
    "var2 = 111\n",
    "\n",
    "temp = var1\n",
    "var1 = var2\n",
    "var2 = temp\n",
    "print('\\nAfter swap:\\nvar1 = {} and var2 = {}'.format(var1, var2))"
   ]
  },
  {
   "cell_type": "markdown",
   "id": "8b437231",
   "metadata": {},
   "source": [
    "5. Write a Python program to generate a random number?\n",
    "\n",
    "   Sol:"
   ]
  },
  {
   "cell_type": "code",
   "execution_count": 9,
   "id": "2dcd82ae",
   "metadata": {},
   "outputs": [
    {
     "name": "stdout",
     "output_type": "stream",
     "text": [
      "0.7373061990038299\n"
     ]
    }
   ],
   "source": [
    "import random\n",
    "print(random.random())"
   ]
  },
  {
   "cell_type": "code",
   "execution_count": null,
   "id": "f8e5076e",
   "metadata": {},
   "outputs": [],
   "source": []
  }
 ],
 "metadata": {
  "kernelspec": {
   "display_name": "Python 3",
   "language": "python",
   "name": "python3"
  },
  "language_info": {
   "codemirror_mode": {
    "name": "ipython",
    "version": 3
   },
   "file_extension": ".py",
   "mimetype": "text/x-python",
   "name": "python",
   "nbconvert_exporter": "python",
   "pygments_lexer": "ipython3",
   "version": "3.8.8"
  }
 },
 "nbformat": 4,
 "nbformat_minor": 5
}
