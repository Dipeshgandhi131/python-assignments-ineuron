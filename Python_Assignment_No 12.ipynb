{
 "cells": [
  {
   "cell_type": "markdown",
   "id": "7e72b068",
   "metadata": {},
   "source": [
    "1. Write a Python program to Extract Unique values dictionary values?"
   ]
  },
  {
   "cell_type": "code",
   "execution_count": 6,
   "id": "15676127",
   "metadata": {},
   "outputs": [
    {
     "name": "stdout",
     "output_type": "stream",
     "text": [
      "{1, 'hello', 1234}\n"
     ]
    }
   ],
   "source": [
    "dict1 = {'k1': 1, 'k2': 1, 'k3': 'hello', 'k4': 'hello', 'k5':1234}\n",
    "unique_values = set(dict1.values())\n",
    "print(unique_values)"
   ]
  },
  {
   "cell_type": "markdown",
   "id": "c3970677",
   "metadata": {},
   "source": [
    "2. Write a Python program to find the sum of all items in a dictionary?"
   ]
  },
  {
   "cell_type": "code",
   "execution_count": 7,
   "id": "ecf10c8c",
   "metadata": {},
   "outputs": [
    {
     "name": "stdout",
     "output_type": "stream",
     "text": [
      "Sum of all values is : 1407\n"
     ]
    }
   ],
   "source": [
    "test_dict = {'k1' : 89,\n",
    "             'k2' : 111,\n",
    "             'k3' : 123,\n",
    "             'k4' : 5}\n",
    "\n",
    "sum = 0\n",
    "for i in test_dict.values():\n",
    "    sum +=sum + i\n",
    "print(f\"Sum of all values is : {sum}\")"
   ]
  },
  {
   "cell_type": "markdown",
   "id": "8506d295",
   "metadata": {},
   "source": [
    "3. Write a Python program to Merging two Dictionaries?"
   ]
  },
  {
   "cell_type": "code",
   "execution_count": 10,
   "id": "abda0c38",
   "metadata": {},
   "outputs": [
    {
     "name": "stdout",
     "output_type": "stream",
     "text": [
      "{'x': 1, 'l': 2, 'k': 3, 'z': 4}\n"
     ]
    }
   ],
   "source": [
    "dict1 = { 'x': 1, 'l': 2}\n",
    "dict2 = { 'k': 3, 'z': 4, 'x': 11}\n",
    "\n",
    "for item in dict2.items():\n",
    "    dict1.setdefault(item[0], item[1])   # add the key with this value is key is not present \n",
    "print(dict1)\n"
   ]
  },
  {
   "cell_type": "markdown",
   "id": "ff9bb0fa",
   "metadata": {},
   "source": [
    "4. Write a Python program to convert key-values list to flat dictionary?"
   ]
  },
  {
   "cell_type": "code",
   "execution_count": 13,
   "id": "707eb587",
   "metadata": {},
   "outputs": [
    {
     "name": "stdout",
     "output_type": "stream",
     "text": [
      "{'a': 1, 'b': 2, 'c': 3}\n"
     ]
    }
   ],
   "source": [
    "def convert_to_flat_dict(lst):\n",
    "    flat_dict = {}\n",
    "    for pair in lst:\n",
    "        flat_dict[pair[0]] = pair[1]\n",
    "    return flat_dict\n",
    "\n",
    "key_value_pairs = [(\"a\", 1), (\"b\", 2), (\"c\", 3)]\n",
    "flat_dict = convert_to_flat_dict(key_value_pairs)\n",
    "print(flat_dict)"
   ]
  },
  {
   "cell_type": "markdown",
   "id": "7b6a1a8c",
   "metadata": {},
   "source": [
    "5. Write a Python program to insertion at the beginning in OrderedDict?"
   ]
  },
  {
   "cell_type": "code",
   "execution_count": 63,
   "id": "20f85252",
   "metadata": {},
   "outputs": [
    {
     "name": "stdout",
     "output_type": "stream",
     "text": [
      "OrderedDict([('d', 4), ('a', 1), ('b', 2), ('c', 3)])\n"
     ]
    }
   ],
   "source": [
    "from collections import OrderedDict\n",
    "\n",
    "def insert_at_beginning(od, key, value):\n",
    "    od[key] = value\n",
    "    od.move_to_end(key, last=False)\n",
    "\n",
    "od = OrderedDict([('a', 1), ('b', 2), ('c', 3)])\n",
    "insert_at_beginning(od, 'd', 4)\n",
    "print(od) "
   ]
  },
  {
   "cell_type": "markdown",
   "id": "94a6dbd9",
   "metadata": {},
   "source": [
    "6. Write a Python program to check order of character in string using OrderedDict()?"
   ]
  },
  {
   "cell_type": "code",
   "execution_count": 79,
   "id": "16915392",
   "metadata": {},
   "outputs": [
    {
     "name": "stdout",
     "output_type": "stream",
     "text": [
      "True\n",
      "True\n"
     ]
    }
   ],
   "source": [
    "from collections import OrderedDict\n",
    "\n",
    "def check_order_of_characters(string, pattern):\n",
    "\n",
    "    pattern_dict = OrderedDict.fromkeys(pattern)\n",
    "\n",
    "    pattern_index = 0\n",
    "    for char in string:\n",
    "       \n",
    "        if char in pattern_dict:\n",
    "            if pattern_index == len(pattern_dict) - 1:\n",
    "                # we have found all characters in pattern in order\n",
    "                return True\n",
    "            pattern_index += 1\n",
    "    # if we reach here, the order of characters is not correct\n",
    "    return False\n",
    "\n",
    "\n",
    "string = 'hello world'\n",
    "pattern = 'hlo'\n",
    "print(check_order_of_characters(string, pattern))\n",
    "pattern = 'orw'\n",
    "print(check_order_of_characters(string, pattern))\n"
   ]
  },
  {
   "cell_type": "markdown",
   "id": "910033bc",
   "metadata": {},
   "source": [
    "7. Write a Python program to sort Python Dictionaries by Key or Value?"
   ]
  },
  {
   "cell_type": "code",
   "execution_count": 76,
   "id": "2d3cc96d",
   "metadata": {},
   "outputs": [
    {
     "name": "stdout",
     "output_type": "stream",
     "text": [
      "{'b': 2, 'c': 3, 'x': 1}\n",
      "{'x': 1, 'b': 2, 'c': 3}\n"
     ]
    }
   ],
   "source": [
    "d = {'c': 3, 'x': 1, 'b': 2}\n",
    "\n",
    "# sort dictionary by key\n",
    "sorted_by_key = dict(sorted(d.items()))\n",
    "print(sorted_by_key)\n",
    "\n",
    "# sort dictionary by value\n",
    "sorted_by_value = dict(sorted(d.items(), key=lambda item: item[1]))\n",
    "print(sorted_by_value)"
   ]
  },
  {
   "cell_type": "code",
   "execution_count": null,
   "id": "c58f31a5",
   "metadata": {},
   "outputs": [],
   "source": []
  },
  {
   "cell_type": "code",
   "execution_count": null,
   "id": "ab01b453",
   "metadata": {},
   "outputs": [],
   "source": []
  }
 ],
 "metadata": {
  "kernelspec": {
   "display_name": "Python 3",
   "language": "python",
   "name": "python3"
  },
  "language_info": {
   "codemirror_mode": {
    "name": "ipython",
    "version": 3
   },
   "file_extension": ".py",
   "mimetype": "text/x-python",
   "name": "python",
   "nbconvert_exporter": "python",
   "pygments_lexer": "ipython3",
   "version": "3.8.8"
  }
 },
 "nbformat": 4,
 "nbformat_minor": 5
}
