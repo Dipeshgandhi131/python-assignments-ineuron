{
 "cells": [
  {
   "cell_type": "markdown",
   "id": "837de084",
   "metadata": {},
   "source": [
    "1. Please write a program using generator to print the numbers which can be divisible by 5 and 7 between 0 and n in comma separated form while n is input by console."
   ]
  },
  {
   "cell_type": "code",
   "execution_count": 2,
   "id": "b73f65d8",
   "metadata": {},
   "outputs": [
    {
     "name": "stdout",
     "output_type": "stream",
     "text": [
      "0,35,70\n"
     ]
    }
   ],
   "source": [
    "def is_divisible_by_5and7(n):\n",
    "    \n",
    "    for i in range(n+1):\n",
    "        if i % 5 == 0 and i % 7 == 0:\n",
    "            yield i\n",
    "            \n",
    "print(','.join([str(i) for i in is_divisible_by_5and7(100)]))"
   ]
  },
  {
   "cell_type": "markdown",
   "id": "1c8d5939",
   "metadata": {},
   "source": [
    "2. Please write a program using generator to print the even numbers between 0 and n in comma separated form while n is input by console."
   ]
  },
  {
   "cell_type": "code",
   "execution_count": 4,
   "id": "e4bc803d",
   "metadata": {},
   "outputs": [
    {
     "name": "stdout",
     "output_type": "stream",
     "text": [
      "0,2,4,6,8,10,12,14,16,18,20,22,24,26,28,30,32,34,36,38,40,42,44,46,48,50,52,54,56,58,60,62,64,66,68,70,72,74,76,78,80,82,84,86,88,90,92,94,96,98,100\n"
     ]
    }
   ],
   "source": [
    "def is_even(n):\n",
    "    \n",
    "    for i in range(n+1):\n",
    "        if i % 2 == 0:\n",
    "            yield i\n",
    "            \n",
    "print(','.join([str(i) for i in is_even(100)]))"
   ]
  },
  {
   "cell_type": "markdown",
   "id": "d63f4def",
   "metadata": {},
   "source": [
    "3. Please write a program using list comprehension to print the Fibonacci Sequence in comma separated form with a given n input by console."
   ]
  },
  {
   "cell_type": "code",
   "execution_count": 6,
   "id": "ed0c2908",
   "metadata": {},
   "outputs": [
    {
     "name": "stdout",
     "output_type": "stream",
     "text": [
      "0,1,1,2,3,5,8,13,21,34,55\n"
     ]
    }
   ],
   "source": [
    "def fibonacci(n):\n",
    "    i = 0\n",
    "    j = 1\n",
    "    for k in range(n+1):\n",
    "        yield i\n",
    "        i,j = j, i+j\n",
    "        \n",
    "        \n",
    "print(','.join([str(num) for num in fibonacci(10)]))"
   ]
  },
  {
   "cell_type": "markdown",
   "id": "eb277281",
   "metadata": {},
   "source": [
    "4. Assuming that we have some email addresses in the \"username@companyname.com\" format, please write program to print the user name of a given email address. Both user names and company names are composed of letters only."
   ]
  },
  {
   "cell_type": "code",
   "execution_count": 7,
   "id": "11d602ee",
   "metadata": {},
   "outputs": [
    {
     "data": {
      "text/plain": [
       "'dipeshgandhi131'"
      ]
     },
     "execution_count": 7,
     "metadata": {},
     "output_type": "execute_result"
    }
   ],
   "source": [
    "def username(email: str):\n",
    "    return email.split('@')[0]\n",
    "\n",
    "username('dipeshgandhi131@google.com')"
   ]
  },
  {
   "cell_type": "markdown",
   "id": "362dbe36",
   "metadata": {},
   "source": [
    "5. Define a class named Shape and its subclass Square. The Square class has an init function which takes a length as argument. Both classes have a area function which can print the area of the shape where Shape's area is 0 by default."
   ]
  },
  {
   "cell_type": "code",
   "execution_count": 26,
   "id": "7360b274",
   "metadata": {},
   "outputs": [
    {
     "name": "stdout",
     "output_type": "stream",
     "text": [
      "25\n"
     ]
    }
   ],
   "source": [
    "class Shape:\n",
    "    def __init__(self, length):\n",
    "        self.length = length\n",
    "        \n",
    "    def area(self):\n",
    "        return 0\n",
    "    \n",
    "class Square(Shape):\n",
    "    def __init__(self, length):\n",
    "         self.length = length\n",
    "\n",
    "    def area(self):\n",
    "        return self.length*self.length\n",
    "    \n",
    "length = Square(5)\n",
    "\n",
    "print(length.area())"
   ]
  },
  {
   "cell_type": "code",
   "execution_count": null,
   "id": "665bf426",
   "metadata": {},
   "outputs": [],
   "source": []
  },
  {
   "cell_type": "code",
   "execution_count": null,
   "id": "483feeda",
   "metadata": {},
   "outputs": [],
   "source": []
  }
 ],
 "metadata": {
  "kernelspec": {
   "display_name": "Python 3",
   "language": "python",
   "name": "python3"
  },
  "language_info": {
   "codemirror_mode": {
    "name": "ipython",
    "version": 3
   },
   "file_extension": ".py",
   "mimetype": "text/x-python",
   "name": "python",
   "nbconvert_exporter": "python",
   "pygments_lexer": "ipython3",
   "version": "3.8.8"
  }
 },
 "nbformat": 4,
 "nbformat_minor": 5
}
