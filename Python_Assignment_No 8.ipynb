{
 "cells": [
  {
   "cell_type": "markdown",
   "id": "c2cf6abc",
   "metadata": {},
   "source": [
    "1. Write a Python Program to Add Two Matrices?"
   ]
  },
  {
   "cell_type": "code",
   "execution_count": 1,
   "id": "33085cae",
   "metadata": {},
   "outputs": [
    {
     "name": "stdout",
     "output_type": "stream",
     "text": [
      "[[ 2  4  6]\n",
      " [ 8 10 12]\n",
      " [14 16 18]]\n"
     ]
    }
   ],
   "source": [
    "import numpy as np\n",
    "matric1 = np.array([[1,2,3],[4,5,6],[7,8,9]])\n",
    "matric2 = np.array([[1,2,3],[4,5,6],[7,8,9]])\n",
    "\n",
    "print(matric1+matric2)"
   ]
  },
  {
   "cell_type": "markdown",
   "id": "bf58beb8",
   "metadata": {},
   "source": [
    "2. Write a Python Program to Multiply Two Matrices?"
   ]
  },
  {
   "cell_type": "code",
   "execution_count": 3,
   "id": "c0767b27",
   "metadata": {},
   "outputs": [
    {
     "name": "stdout",
     "output_type": "stream",
     "text": [
      "[[114 160  60  27]\n",
      " [ 74  97  73  14]\n",
      " [119 157 112  23]]\n"
     ]
    }
   ],
   "source": [
    "import numpy as np\n",
    "matric1 = np.array([[12, 7, 3],\n",
    "                    [4, 5, 6],\n",
    "                    [7, 8, 9]])\n",
    "matric2 = np.array([[5, 8, 1, 2],\n",
    "                    [6, 7, 3, 0],\n",
    "                    [4, 5, 9, 1]])\n",
    "\n",
    "print(matric1.dot(matric2))"
   ]
  },
  {
   "cell_type": "markdown",
   "id": "62558f4c",
   "metadata": {},
   "source": [
    "3. Write a Python Program to Transpose a Matrix?"
   ]
  },
  {
   "cell_type": "code",
   "execution_count": 5,
   "id": "d740fd0d",
   "metadata": {},
   "outputs": [
    {
     "name": "stdout",
     "output_type": "stream",
     "text": [
      "[[12  4  3]\n",
      " [ 7  5  8]]\n"
     ]
    }
   ],
   "source": [
    "import numpy as np\n",
    "matric1 = np.array([[12,7],\n",
    "                    [4 ,5],\n",
    "                    [3 ,8]])\n",
    "print(matric1.T)"
   ]
  },
  {
   "cell_type": "markdown",
   "id": "5c52dbb8",
   "metadata": {},
   "source": [
    "4. Write a Python Program to Sort Words in Alphabetic Order?"
   ]
  },
  {
   "cell_type": "code",
   "execution_count": 6,
   "id": "127efa6f",
   "metadata": {},
   "outputs": [
    {
     "name": "stdout",
     "output_type": "stream",
     "text": [
      "Enter the words: This is task from the Assignment\n",
      "Sorted order of words:\n",
      "assignment from is task the this "
     ]
    }
   ],
   "source": [
    "sentance = input(\"Enter the words: \")\n",
    "words = [word.lower() for word in sentance.split()]\n",
    "words.sort()\n",
    "\n",
    "print(\"Sorted order of words:\")\n",
    "for word in words:\n",
    "    print(word, end = ' ')\n",
    "    "
   ]
  },
  {
   "cell_type": "markdown",
   "id": "09ff2677",
   "metadata": {},
   "source": [
    "Write a Python Program to Remove Punctuation From a String?"
   ]
  },
  {
   "cell_type": "code",
   "execution_count": 7,
   "id": "6724d28b",
   "metadata": {},
   "outputs": [
    {
     "name": "stdout",
     "output_type": "stream",
     "text": [
      "Enter the string: Hello, World!!! <HTML> c++; {braces} \\/!@##^&*()( Ending the string now.\n",
      "Hello World HTML c++ braces  Ending the string now\n"
     ]
    }
   ],
   "source": [
    "punctuations = '''!()-[]{};:'\"\\,<>./?@#$%^&*_~'''\n",
    "\n",
    "string = input(\"Enter the string: \")\n",
    "\n",
    "outputString = \"\"\n",
    "\n",
    "for char in string:\n",
    "    if char not in punctuations:\n",
    "        outputString += char\n",
    "        \n",
    "print(outputString)"
   ]
  },
  {
   "cell_type": "code",
   "execution_count": null,
   "id": "c3a6296c",
   "metadata": {},
   "outputs": [],
   "source": []
  }
 ],
 "metadata": {
  "kernelspec": {
   "display_name": "Python 3",
   "language": "python",
   "name": "python3"
  },
  "language_info": {
   "codemirror_mode": {
    "name": "ipython",
    "version": 3
   },
   "file_extension": ".py",
   "mimetype": "text/x-python",
   "name": "python",
   "nbconvert_exporter": "python",
   "pygments_lexer": "ipython3",
   "version": "3.8.8"
  }
 },
 "nbformat": 4,
 "nbformat_minor": 5
}
