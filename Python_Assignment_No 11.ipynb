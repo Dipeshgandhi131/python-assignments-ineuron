{
 "cells": [
  {
   "cell_type": "markdown",
   "id": "608c3f2d",
   "metadata": {},
   "source": [
    "1. Write a Python program to find words which are greater than given length k?"
   ]
  },
  {
   "cell_type": "code",
   "execution_count": 1,
   "id": "d8e18535",
   "metadata": {},
   "outputs": [
    {
     "name": "stdout",
     "output_type": "stream",
     "text": [
      "['Hello', 'world,', 'doing', 'today?']\n"
     ]
    }
   ],
   "source": [
    "def find_long_words(s, k):\n",
    "    words = s.split()\n",
    "    long_words = [word for word in words if len(word) > k]\n",
    "    return long_words\n",
    "\n",
    "\n",
    "my_string = \"Hello world, how are you doing today?\"\n",
    "k = 4\n",
    "print(find_long_words(my_string, k))"
   ]
  },
  {
   "cell_type": "markdown",
   "id": "ba6a4218",
   "metadata": {},
   "source": [
    "2. Write a Python program for removing i-th character from a string?"
   ]
  },
  {
   "cell_type": "code",
   "execution_count": 3,
   "id": "58b5455a",
   "metadata": {
    "scrolled": true
   },
   "outputs": [
    {
     "name": "stdout",
     "output_type": "stream",
     "text": [
      "Helo world\n"
     ]
    }
   ],
   "source": [
    "def remove_char(s, i):\n",
    "    new_str = s[:i] + s[i+1:]\n",
    "    return new_str\n",
    "\n",
    "my_string = \"Hello world\"\n",
    "i = 3\n",
    "print(remove_char(my_string, i))"
   ]
  },
  {
   "cell_type": "markdown",
   "id": "897bdc3c",
   "metadata": {},
   "source": [
    "3. Write a Python program to split and join a string?"
   ]
  },
  {
   "cell_type": "code",
   "execution_count": 4,
   "id": "b032874b",
   "metadata": {},
   "outputs": [
    {
     "name": "stdout",
     "output_type": "stream",
     "text": [
      "['Write', 'a', 'Python', 'program', 'to', 'split', 'and', 'join', 'a', 'string?']\n",
      "Write a Python program to split and join a string?\n"
     ]
    }
   ],
   "source": [
    "string = \"Write a Python program to split and join a string?\"\n",
    "\n",
    "split = string.split(' ')\n",
    "print(split)\n",
    "\n",
    "join = \" \".join(split)\n",
    "print(join)"
   ]
  },
  {
   "cell_type": "markdown",
   "id": "d0223d68",
   "metadata": {},
   "source": [
    "4. Write a Python to check if a given string is binary string or not?"
   ]
  },
  {
   "cell_type": "code",
   "execution_count": 5,
   "id": "7075e009",
   "metadata": {},
   "outputs": [
    {
     "name": "stdout",
     "output_type": "stream",
     "text": [
      "True\n"
     ]
    }
   ],
   "source": [
    "def is_binary_string(s):\n",
    "    for char in s:\n",
    "        if char != '0' and char != '1':\n",
    "            return False\n",
    "    return True\n",
    "\n",
    "# Example usage\n",
    "my_string = \"101011001\"\n",
    "print(is_binary_string(my_string))"
   ]
  },
  {
   "cell_type": "markdown",
   "id": "7f30fed6",
   "metadata": {},
   "source": [
    "5. Write a Python program to find uncommon words from two Strings?"
   ]
  },
  {
   "cell_type": "code",
   "execution_count": 6,
   "id": "c75609b9",
   "metadata": {},
   "outputs": [
    {
     "name": "stdout",
     "output_type": "stream",
     "text": [
      "{'cat', 'fox'}\n"
     ]
    }
   ],
   "source": [
    "def find_uncommon_words(s1, s2):\n",
    "    words1 = set(s1.split())\n",
    "    words2 = set(s2.split())\n",
    "    uncommon_words = words1.symmetric_difference(words2)\n",
    "    return uncommon_words\n",
    "\n",
    "\n",
    "string1 = \"the quick brown fox jumps over the lazy dog\"\n",
    "string2 = \"the quick brown cat jumps over the lazy dog\"\n",
    "print(find_uncommon_words(string1, string2))"
   ]
  },
  {
   "cell_type": "markdown",
   "id": "dacd68ad",
   "metadata": {},
   "source": [
    "6. Write a Python program to find all duplicate characters in string?"
   ]
  },
  {
   "cell_type": "code",
   "execution_count": 9,
   "id": "79ef9533",
   "metadata": {},
   "outputs": [
    {
     "data": {
      "text/plain": [
       "{' ', 'a', 'c', 'd', 'e', 'i', 'l', 'n', 'r', 's', 't'}"
      ]
     },
     "execution_count": 9,
     "metadata": {},
     "output_type": "execute_result"
    }
   ],
   "source": [
    "def get_duplicate(string: str):\n",
    "    duplicate = []\n",
    "    for i in string:\n",
    "        if string.count(i) > 1:\n",
    "            duplicate.append(i)\n",
    "            \n",
    "    return set(duplicate)\n",
    "\n",
    "get_duplicate(\"find all duplicate characters in string\")"
   ]
  },
  {
   "cell_type": "markdown",
   "id": "38816825",
   "metadata": {},
   "source": [
    "7. Write a Python Program to check if a string contains any special character?"
   ]
  },
  {
   "cell_type": "code",
   "execution_count": 10,
   "id": "67c21e2d",
   "metadata": {},
   "outputs": [
    {
     "name": "stdout",
     "output_type": "stream",
     "text": [
      "True\n"
     ]
    }
   ],
   "source": [
    "import re\n",
    "\n",
    "def contains_special_character(s):\n",
    "    pattern = re.compile('[^a-zA-Z0-9]+')\n",
    "    if pattern.search(s):\n",
    "        return True\n",
    "    else:\n",
    "        return False\n",
    "\n",
    "\n",
    "my_string = \"Hello World!\"\n",
    "print(contains_special_character(my_string))\n"
   ]
  },
  {
   "cell_type": "code",
   "execution_count": null,
   "id": "3629268b",
   "metadata": {},
   "outputs": [],
   "source": []
  }
 ],
 "metadata": {
  "kernelspec": {
   "display_name": "Python 3",
   "language": "python",
   "name": "python3"
  },
  "language_info": {
   "codemirror_mode": {
    "name": "ipython",
    "version": 3
   },
   "file_extension": ".py",
   "mimetype": "text/x-python",
   "name": "python",
   "nbconvert_exporter": "python",
   "pygments_lexer": "ipython3",
   "version": "3.8.8"
  }
 },
 "nbformat": 4,
 "nbformat_minor": 5
}
