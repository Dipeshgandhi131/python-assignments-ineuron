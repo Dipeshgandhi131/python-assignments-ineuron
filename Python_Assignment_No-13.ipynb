{
 "cells": [
  {
   "cell_type": "markdown",
   "id": "ecf7eb01",
   "metadata": {},
   "source": [
    "1. Write a program that calculates and prints the value according to the given formula:\n",
    "\n",
    "Q = Square root of [(2 C D)/H]\n",
    "\n",
    "Following are the fixed values of C and H:\n",
    "\n",
    "C is 50. H is 30.\n",
    "\n",
    "D is the variable whose values should be input to your program in a comma-separated sequence.\n",
    "\n",
    "Example\n",
    "\n",
    "Let us assume the following comma separated input sequence is given to the program:\n",
    "\n",
    "100,150,180\n",
    "\n",
    "The output of the program should be:\n",
    "\n",
    "18,22,24"
   ]
  },
  {
   "cell_type": "code",
   "execution_count": 6,
   "id": "dbf5e036",
   "metadata": {},
   "outputs": [
    {
     "name": "stdout",
     "output_type": "stream",
     "text": [
      "Enter the numbers :100,150,180\n",
      "100,150,180\n",
      "[18, 22, 24]\n"
     ]
    }
   ],
   "source": [
    "from math import sqrt,floor\n",
    "def calc(d):\n",
    "    c = 50\n",
    "    h = 30\n",
    "    return floor(sqrt((2*c*int(d)/h)))\n",
    "\n",
    "data = input('Enter the numbers :')\n",
    "print(data)\n",
    "value_d = data.split(',')\n",
    "print(list(map(calc,value_d)))"
   ]
  },
  {
   "cell_type": "markdown",
   "id": "bf557b55",
   "metadata": {},
   "source": [
    "2. Write a program which takes 2 digits, X,Y as input and generates a 2-dimensional array. \n",
    "   The element value in the i-th row and j-th column of the array should be i*j."
   ]
  },
  {
   "cell_type": "code",
   "execution_count": 7,
   "id": "77b7f735",
   "metadata": {},
   "outputs": [
    {
     "name": "stdout",
     "output_type": "stream",
     "text": [
      "Enter X: 3\n",
      "Enter Y: 3\n",
      "[[0, 0, 0], [0, 1, 2], [0, 2, 4]]\n"
     ]
    }
   ],
   "source": [
    "X = int(input(\"Enter X: \"))\n",
    "Y = int(input(\"Enter Y: \"))\n",
    "\n",
    "array_2d = []\n",
    "\n",
    "for i in range(X):\n",
    "    row = []\n",
    "    for j in range(Y):\n",
    "        row.append(i*j)\n",
    "    array_2d.append(row)\n",
    "\n",
    "print(array_2d)\n",
    "\n",
    "\n"
   ]
  },
  {
   "cell_type": "markdown",
   "id": "3d71d14d",
   "metadata": {},
   "source": [
    "3. Write a program that accepts a comma separated sequence of words as input and prints the words in a comma-separated sequence after sorting them alphabetically."
   ]
  },
  {
   "cell_type": "code",
   "execution_count": 8,
   "id": "b4d59b73",
   "metadata": {},
   "outputs": [
    {
     "name": "stdout",
     "output_type": "stream",
     "text": [
      "Enter comma seperated words: without,hello,bag,world\n",
      "bag,hello,without,world\n"
     ]
    }
   ],
   "source": [
    "words = list(input(\"Enter comma seperated words: \").split(','))\n",
    "words.sort() \n",
    "print(','.join(words))"
   ]
  },
  {
   "cell_type": "markdown",
   "id": "82ca29a6",
   "metadata": {},
   "source": [
    "4. Write a program that accepts a sequence of whitespace separated words as input and prints the words after removing all duplicate words and sorting them alphanumerically."
   ]
  },
  {
   "cell_type": "code",
   "execution_count": 14,
   "id": "1c5ed21b",
   "metadata": {},
   "outputs": [
    {
     "name": "stdout",
     "output_type": "stream",
     "text": [
      "Enter whitespace seperated words: hello world and practice makes perfect and hello world again\n",
      "again and hello makes perfect practice world\n"
     ]
    }
   ],
   "source": [
    "words = input(\"Enter whitespace seperated words: \").split(' ')\n",
    "\n",
    "print(' '.join(sorted(set(words))))\n",
    "# hello world and practice makes perfect and hello world again"
   ]
  },
  {
   "cell_type": "markdown",
   "id": "975be339",
   "metadata": {},
   "source": [
    "5. Write a program that accepts a sentence and calculate the number of letters and digits."
   ]
  },
  {
   "cell_type": "code",
   "execution_count": 15,
   "id": "11c28247",
   "metadata": {},
   "outputs": [
    {
     "name": "stdout",
     "output_type": "stream",
     "text": [
      "Enter a sentence: hello world! 123\n",
      "Number of letters: 10\n",
      "Number of digits: 3\n"
     ]
    }
   ],
   "source": [
    "sentence = input(\"Enter a sentence: \")\n",
    "\n",
    "num_letters = 0\n",
    "num_digits = 0\n",
    "\n",
    "for char in sentence:\n",
    "    if char.isalpha():      # check if the character is a letter\n",
    "        num_letters += 1\n",
    "    elif char.isdigit():    # check if the character is a digit\n",
    "        num_digits += 1\n",
    "\n",
    "print(\"Number of letters:\", num_letters)\n",
    "print(\"Number of digits:\", num_digits)"
   ]
  },
  {
   "cell_type": "code",
   "execution_count": null,
   "id": "63299605",
   "metadata": {},
   "outputs": [],
   "source": []
  },
  {
   "cell_type": "code",
   "execution_count": 23,
   "id": "bf9e15d8",
   "metadata": {},
   "outputs": [
    {
     "name": "stdout",
     "output_type": "stream",
     "text": [
      "Enter a password: EKd9876@1\n",
      "Password is valid\n"
     ]
    }
   ],
   "source": [
    "import re\n",
    "\n",
    "def is_valid_password(password):\n",
    "    # check if the password is at least 8 characters long\n",
    "    if len(password) < 8:\n",
    "        return False\n",
    "    \n",
    "    # check if the password contains at least one uppercase letter, one lowercase letter, and one digit\n",
    "    if not re.search('[A-Z]', password):\n",
    "        return False\n",
    "    if not re.search('[a-z]', password):\n",
    "        return False\n",
    "    if not re.search('\\d', password):\n",
    "        return False\n",
    "    \n",
    "    # check if the password contains only allowed special characters\n",
    "    if not re.match(r'^[\\w@#$%^&+=]*$', password):\n",
    "        return False\n",
    "    \n",
    "    return True\n",
    "\n",
    "password = input(\"Enter a password: \")\n",
    "\n",
    "\n",
    "if is_valid_password(password):\n",
    "    print(\"Password is valid\")\n",
    "else:\n",
    "    print(\"Password is invalid\")\n"
   ]
  },
  {
   "cell_type": "code",
   "execution_count": null,
   "id": "69b19812",
   "metadata": {},
   "outputs": [],
   "source": []
  }
 ],
 "metadata": {
  "kernelspec": {
   "display_name": "Python 3",
   "language": "python",
   "name": "python3"
  },
  "language_info": {
   "codemirror_mode": {
    "name": "ipython",
    "version": 3
   },
   "file_extension": ".py",
   "mimetype": "text/x-python",
   "name": "python",
   "nbconvert_exporter": "python",
   "pygments_lexer": "ipython3",
   "version": "3.8.8"
  }
 },
 "nbformat": 4,
 "nbformat_minor": 5
}
